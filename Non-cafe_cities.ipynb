{
 "cells": [
  {
   "cell_type": "code",
   "execution_count": 1,
   "metadata": {},
   "outputs": [],
   "source": [
    "import pandas as pd\n",
    "import numpy as np\n",
    "import requests\n",
    "from bs4 import BeautifulSoup # For web scraping\n",
    "\n",
    "pd.set_option('display.max_columns', None)\n",
    "pd.set_option('display.max_rows', None)"
   ]
  },
  {
   "cell_type": "code",
   "execution_count": 2,
   "metadata": {},
   "outputs": [
    {
     "data": {
      "text/html": [
       "<div>\n",
       "<style scoped>\n",
       "    .dataframe tbody tr th:only-of-type {\n",
       "        vertical-align: middle;\n",
       "    }\n",
       "\n",
       "    .dataframe tbody tr th {\n",
       "        vertical-align: top;\n",
       "    }\n",
       "\n",
       "    .dataframe thead th {\n",
       "        text-align: right;\n",
       "    }\n",
       "</style>\n",
       "<table border=\"1\" class=\"dataframe\">\n",
       "  <thead>\n",
       "    <tr style=\"text-align: right;\">\n",
       "      <th></th>\n",
       "      <th>Name</th>\n",
       "      <th>Address</th>\n",
       "      <th>City</th>\n",
       "      <th>PostalCode</th>\n",
       "      <th>Country</th>\n",
       "      <th>Latitude</th>\n",
       "      <th>Longitude</th>\n",
       "    </tr>\n",
       "  </thead>\n",
       "  <tbody>\n",
       "    <tr>\n",
       "      <th>0</th>\n",
       "      <td>Brot &amp; Spiele</td>\n",
       "      <td>Mariahilferstraße 17</td>\n",
       "      <td>Graz</td>\n",
       "      <td>8020</td>\n",
       "      <td>Austria</td>\n",
       "      <td>47.073272</td>\n",
       "      <td>15.433036</td>\n",
       "    </tr>\n",
       "    <tr>\n",
       "      <th>1</th>\n",
       "      <td>Brot und Spiele</td>\n",
       "      <td>Laudongasse 22</td>\n",
       "      <td>Vienna</td>\n",
       "      <td>1080</td>\n",
       "      <td>Austria</td>\n",
       "      <td>48.213407</td>\n",
       "      <td>16.349799</td>\n",
       "    </tr>\n",
       "    <tr>\n",
       "      <th>2</th>\n",
       "      <td>Café Benno</td>\n",
       "      <td>Alser Str. 67</td>\n",
       "      <td>Vienna</td>\n",
       "      <td>1080</td>\n",
       "      <td>Austria</td>\n",
       "      <td>48.215050</td>\n",
       "      <td>16.342587</td>\n",
       "    </tr>\n",
       "    <tr>\n",
       "      <th>3</th>\n",
       "      <td>Café Sperlhof</td>\n",
       "      <td>Große Sperlgasse 41</td>\n",
       "      <td>Vienna</td>\n",
       "      <td>1020</td>\n",
       "      <td>Austria</td>\n",
       "      <td>48.219658</td>\n",
       "      <td>16.378380</td>\n",
       "    </tr>\n",
       "    <tr>\n",
       "      <th>4</th>\n",
       "      <td>SpielBar</td>\n",
       "      <td>Lederergasse 26</td>\n",
       "      <td>Vienna</td>\n",
       "      <td>1080</td>\n",
       "      <td>Austria</td>\n",
       "      <td>48.213688</td>\n",
       "      <td>16.348476</td>\n",
       "    </tr>\n",
       "    <tr>\n",
       "      <th>5</th>\n",
       "      <td>The Playground (Hoofdkerk)</td>\n",
       "      <td>Hoofdkerkstraat 7</td>\n",
       "      <td>Antwerp</td>\n",
       "      <td>2000</td>\n",
       "      <td>Belgium</td>\n",
       "      <td>51.221243</td>\n",
       "      <td>4.403738</td>\n",
       "    </tr>\n",
       "    <tr>\n",
       "      <th>6</th>\n",
       "      <td>The Playground (Station)</td>\n",
       "      <td>Pelikaanstraat 3/1270</td>\n",
       "      <td>Antwerp</td>\n",
       "      <td>2018</td>\n",
       "      <td>Belgium</td>\n",
       "      <td>51.216644</td>\n",
       "      <td>4.420792</td>\n",
       "    </tr>\n",
       "    <tr>\n",
       "      <th>7</th>\n",
       "      <td>Outpost Antwerpen</td>\n",
       "      <td>Beggaardenstraat 6</td>\n",
       "      <td>Antwerp</td>\n",
       "      <td>2000</td>\n",
       "      <td>Belgium</td>\n",
       "      <td>51.219510</td>\n",
       "      <td>4.404468</td>\n",
       "    </tr>\n",
       "    <tr>\n",
       "      <th>8</th>\n",
       "      <td>La Luck Brussels</td>\n",
       "      <td>74 rue Washington</td>\n",
       "      <td>Brussels</td>\n",
       "      <td>1050</td>\n",
       "      <td>Belgium</td>\n",
       "      <td>50.823495</td>\n",
       "      <td>4.363401</td>\n",
       "    </tr>\n",
       "    <tr>\n",
       "      <th>9</th>\n",
       "      <td>La Table Food &amp; Games</td>\n",
       "      <td>63 rue de l'enseignement</td>\n",
       "      <td>Brussels</td>\n",
       "      <td>1000</td>\n",
       "      <td>Belgium</td>\n",
       "      <td>50.848845</td>\n",
       "      <td>4.365281</td>\n",
       "    </tr>\n",
       "  </tbody>\n",
       "</table>\n",
       "</div>"
      ],
      "text/plain": [
       "                         Name                   Address      City PostalCode  \\\n",
       "0               Brot & Spiele      Mariahilferstraße 17      Graz       8020   \n",
       "1             Brot und Spiele            Laudongasse 22    Vienna       1080   \n",
       "2                  Café Benno             Alser Str. 67    Vienna       1080   \n",
       "3               Café Sperlhof       Große Sperlgasse 41    Vienna       1020   \n",
       "4                    SpielBar           Lederergasse 26    Vienna       1080   \n",
       "5  The Playground (Hoofdkerk)         Hoofdkerkstraat 7   Antwerp       2000   \n",
       "6    The Playground (Station)     Pelikaanstraat 3/1270   Antwerp       2018   \n",
       "7           Outpost Antwerpen       Beggaardenstraat 6    Antwerp       2000   \n",
       "8            La Luck Brussels         74 rue Washington  Brussels       1050   \n",
       "9       La Table Food & Games  63 rue de l'enseignement  Brussels       1000   \n",
       "\n",
       "   Country   Latitude  Longitude  \n",
       "0  Austria  47.073272  15.433036  \n",
       "1  Austria  48.213407  16.349799  \n",
       "2  Austria  48.215050  16.342587  \n",
       "3  Austria  48.219658  16.378380  \n",
       "4  Austria  48.213688  16.348476  \n",
       "5  Belgium  51.221243   4.403738  \n",
       "6  Belgium  51.216644   4.420792  \n",
       "7  Belgium  51.219510   4.404468  \n",
       "8  Belgium  50.823495   4.363401  \n",
       "9  Belgium  50.848845   4.365281  "
      ]
     },
     "execution_count": 2,
     "metadata": {},
     "output_type": "execute_result"
    }
   ],
   "source": [
    "cafe_df = pd.read_csv('cafe_addresses.csv')\n",
    "cafe_df.head(10)"
   ]
  },
  {
   "cell_type": "code",
   "execution_count": 3,
   "metadata": {},
   "outputs": [],
   "source": [
    "city_list = []\n",
    "for n in range(1, 6):\n",
    "    url = f'http://www.citymayors.com/features/euro_cities{n}.html'\n",
    "    r = requests.get(url)\n",
    "    soup = BeautifulSoup(r.content, 'lxml')\n",
    "    table = soup.find_all('table')[1]\n",
    "    city_table = [td.text.title().rstrip() for td in table.find_all('td', attrs={'width':'140'})[1:]]\n",
    "    city_list.extend(city_table)"
   ]
  },
  {
   "cell_type": "markdown",
   "metadata": {},
   "source": [
    "Unfortunately, the data on City Mayors omits Turkey, and so we need to collect this information from [Wikipedia](https://en.wikipedia.org/wiki/List_of_largest_cities_and_towns_in_Turkey). The smallest population value given in the City Mayors table is 149,000 people, and so we will include all cities whose population exceed this value.\n",
    "\n",
    "In addition, a number of English counties, rather than cities are within the data, so we shall remove those, and we need to include 'Rome' instead of 'Roma' to ensure it is properly treated."
   ]
  },
  {
   "cell_type": "code",
   "execution_count": 4,
   "metadata": {},
   "outputs": [],
   "source": [
    "city_list = list(map(lambda x: x.replace('Roma', 'Rome'), city_list))\n",
    "\n",
    "turkey_url = 'https://en.wikipedia.org/wiki/List_of_largest_cities_and_towns_in_Turkey'\n",
    "turkey_resp = requests.get(turkey_url)\n",
    "turkey_soup = BeautifulSoup(turkey_resp.content, 'lxml')\n",
    "turkey_table = turkey_soup.find('table', attrs={'class': 'sortable'})\n",
    "city_pop = [td.text.rstrip('\\n').replace(',', '') for td in turkey_table.find_all('td')[6::8]]\n",
    "turkey_cities = [a.text for a in turkey_table.find_all('a')[::2]]"
   ]
  },
  {
   "cell_type": "code",
   "execution_count": 5,
   "metadata": {},
   "outputs": [
    {
     "name": "stdout",
     "output_type": "stream",
     "text": [
      "city_list now contains 543 cities\n"
     ]
    }
   ],
   "source": [
    "for city, pop in zip(turkey_cities, city_pop):\n",
    "    try:\n",
    "        if int(pop) > 149000:\n",
    "            city_list.append(city)\n",
    "    except:\n",
    "        pass\n",
    "print(f'city_list now contains {len(city_list)} cities')"
   ]
  },
  {
   "cell_type": "code",
   "execution_count": 6,
   "metadata": {},
   "outputs": [
    {
     "name": "stdout",
     "output_type": "stream",
     "text": [
      "city_list now contains 534 cities\n"
     ]
    }
   ],
   "source": [
    "for city in city_list:\n",
    "    if 'shire' in city:\n",
    "        city_list.remove(city)\n",
    "print(f'city_list now contains {len(city_list)} cities')"
   ]
  },
  {
   "cell_type": "code",
   "execution_count": 7,
   "metadata": {},
   "outputs": [],
   "source": [
    "cafe_city_list = cafe_df['City'].unique().tolist()\n",
    "cafe_city_list.sort()\n",
    "#cafe_city_list"
   ]
  },
  {
   "cell_type": "code",
   "execution_count": 8,
   "metadata": {},
   "outputs": [],
   "source": [
    "city_list.sort()\n",
    "#city_list"
   ]
  },
  {
   "cell_type": "code",
   "execution_count": 9,
   "metadata": {},
   "outputs": [],
   "source": [
    "city_without_cafe = []"
   ]
  },
  {
   "cell_type": "code",
   "execution_count": 10,
   "metadata": {},
   "outputs": [],
   "source": [
    "def has_a_cafe(city):\n",
    "    inclusion = [(cafe.lower() in city.lower()) for cafe in cafe_city_list]\n",
    "    return any(inclusion)"
   ]
  },
  {
   "cell_type": "code",
   "execution_count": 11,
   "metadata": {},
   "outputs": [
    {
     "name": "stdout",
     "output_type": "stream",
     "text": [
      "\n",
      "city_without_cafe has 439 cities\n"
     ]
    }
   ],
   "source": [
    "for city in city_list:\n",
    "    if not has_a_cafe(city):\n",
    "        city_without_cafe.append(city)\n",
    "print(f'\\ncity_without_cafe has {len(city_without_cafe)} cities')"
   ]
  },
  {
   "cell_type": "code",
   "execution_count": 12,
   "metadata": {},
   "outputs": [
    {
     "data": {
      "text/plain": [
       "['Aachen',\n",
       " 'Abakan',\n",
       " 'Aberdeen',\n",
       " 'Adana',\n",
       " 'Adapazarı',\n",
       " 'Adıyaman',\n",
       " 'Afyon',\n",
       " 'Aksaray',\n",
       " 'Alcalá De Henares',\n",
       " 'Alicante']"
      ]
     },
     "execution_count": 12,
     "metadata": {},
     "output_type": "execute_result"
    }
   ],
   "source": [
    "city_without_cafe[:10]"
   ]
  },
  {
   "cell_type": "code",
   "execution_count": 13,
   "metadata": {},
   "outputs": [
    {
     "data": {
      "text/html": [
       "<div>\n",
       "<style scoped>\n",
       "    .dataframe tbody tr th:only-of-type {\n",
       "        vertical-align: middle;\n",
       "    }\n",
       "\n",
       "    .dataframe tbody tr th {\n",
       "        vertical-align: top;\n",
       "    }\n",
       "\n",
       "    .dataframe thead th {\n",
       "        text-align: right;\n",
       "    }\n",
       "</style>\n",
       "<table border=\"1\" class=\"dataframe\">\n",
       "  <thead>\n",
       "    <tr style=\"text-align: right;\">\n",
       "      <th></th>\n",
       "      <th>City</th>\n",
       "    </tr>\n",
       "  </thead>\n",
       "  <tbody>\n",
       "    <tr>\n",
       "      <th>0</th>\n",
       "      <td>Aachen</td>\n",
       "    </tr>\n",
       "    <tr>\n",
       "      <th>1</th>\n",
       "      <td>Abakan</td>\n",
       "    </tr>\n",
       "    <tr>\n",
       "      <th>2</th>\n",
       "      <td>Aberdeen</td>\n",
       "    </tr>\n",
       "    <tr>\n",
       "      <th>3</th>\n",
       "      <td>Adana</td>\n",
       "    </tr>\n",
       "    <tr>\n",
       "      <th>4</th>\n",
       "      <td>Adapazarı</td>\n",
       "    </tr>\n",
       "  </tbody>\n",
       "</table>\n",
       "</div>"
      ],
      "text/plain": [
       "        City\n",
       "0     Aachen\n",
       "1     Abakan\n",
       "2   Aberdeen\n",
       "3      Adana\n",
       "4  Adapazarı"
      ]
     },
     "execution_count": 13,
     "metadata": {},
     "output_type": "execute_result"
    }
   ],
   "source": [
    "cwc_df = pd.DataFrame(city_without_cafe, columns=['City'])\n",
    "cwc_df.head()"
   ]
  },
  {
   "cell_type": "code",
   "execution_count": 14,
   "metadata": {},
   "outputs": [],
   "source": [
    "from geopy.geocoders import Nominatim\n",
    "geolocator = Nominatim(user_agent='bgc_finder')\n",
    "ll_list = []"
   ]
  },
  {
   "cell_type": "code",
   "execution_count": 15,
   "metadata": {},
   "outputs": [],
   "source": [
    "def get_ll(row):\n",
    "    location = geolocator.geocode(row)\n",
    "    try:\n",
    "        return [location.latitude, location.longitude]\n",
    "    except:\n",
    "        return [np.nan, np.nan]"
   ]
  },
  {
   "cell_type": "code",
   "execution_count": 16,
   "metadata": {},
   "outputs": [],
   "source": [
    "cwc_df.loc[34] = 'Bila Tserkva'\n",
    "cwc_df.loc[80] = 'Chernivtsi'\n",
    "cwc_df.loc[90] = 'Kamianske'\n",
    "cwc_df.loc[100] = 'Yekaterinburg'\n",
    "cwc_df.loc[135] = 'Yoshkar-Ola'\n",
    "cwc_df.loc[177] = 'Kremenchuk'\n",
    "cwc_df.loc[209] = 'Makiivka'\n",
    "cwc_df.loc[243] = 'Nizhnevartovsk'\n",
    "cwc_df.loc[259] = 'Oldham, Greater Manchester'\n",
    "cwc_df.loc[280] = 'Piraeus'\n",
    "cwc_df.drop(294, axis=0, inplace=True) # Rhondda Cynon Taf is a Welsh county whose largest town has less than 31000 people\n",
    "cwc_df.loc[345] = 'Stary Oskol'\n",
    "cwc_df.loc[356] = 'Syktyvkar'\n",
    "cwc_df.drop(381, axis=0, inplace=True) # We perhaps don't want Turku within our training data\n",
    "cwc_df.loc[390] = 'Yuzhno-Sakhalinsk'\n",
    "cwc_df.loc[393] = 'Van, İpekyolu'\n",
    "cwc_df.loc[401] = 'Vinnytsia'\n",
    "cwc_df.loc[421] = 'Yaroslavl'"
   ]
  },
  {
   "cell_type": "code",
   "execution_count": 17,
   "metadata": {},
   "outputs": [
    {
     "data": {
      "text/html": [
       "<div>\n",
       "<style scoped>\n",
       "    .dataframe tbody tr th:only-of-type {\n",
       "        vertical-align: middle;\n",
       "    }\n",
       "\n",
       "    .dataframe tbody tr th {\n",
       "        vertical-align: top;\n",
       "    }\n",
       "\n",
       "    .dataframe thead th {\n",
       "        text-align: right;\n",
       "    }\n",
       "</style>\n",
       "<table border=\"1\" class=\"dataframe\">\n",
       "  <thead>\n",
       "    <tr style=\"text-align: right;\">\n",
       "      <th></th>\n",
       "      <th>City</th>\n",
       "      <th>Latitude</th>\n",
       "      <th>Longitude</th>\n",
       "    </tr>\n",
       "  </thead>\n",
       "  <tbody>\n",
       "    <tr>\n",
       "      <th>0</th>\n",
       "      <td>Aachen</td>\n",
       "      <td>50.776351</td>\n",
       "      <td>6.083862</td>\n",
       "    </tr>\n",
       "    <tr>\n",
       "      <th>1</th>\n",
       "      <td>Abakan</td>\n",
       "      <td>53.720661</td>\n",
       "      <td>91.440369</td>\n",
       "    </tr>\n",
       "    <tr>\n",
       "      <th>2</th>\n",
       "      <td>Aberdeen</td>\n",
       "      <td>57.148243</td>\n",
       "      <td>-2.092809</td>\n",
       "    </tr>\n",
       "    <tr>\n",
       "      <th>3</th>\n",
       "      <td>Adana</td>\n",
       "      <td>36.993617</td>\n",
       "      <td>35.325835</td>\n",
       "    </tr>\n",
       "    <tr>\n",
       "      <th>4</th>\n",
       "      <td>Adapazarı</td>\n",
       "      <td>40.784799</td>\n",
       "      <td>30.399683</td>\n",
       "    </tr>\n",
       "  </tbody>\n",
       "</table>\n",
       "</div>"
      ],
      "text/plain": [
       "        City   Latitude  Longitude\n",
       "0     Aachen  50.776351   6.083862\n",
       "1     Abakan  53.720661  91.440369\n",
       "2   Aberdeen  57.148243  -2.092809\n",
       "3      Adana  36.993617  35.325835\n",
       "4  Adapazarı  40.784799  30.399683"
      ]
     },
     "execution_count": 17,
     "metadata": {},
     "output_type": "execute_result"
    }
   ],
   "source": [
    "for row in cwc_df.to_numpy():\n",
    "    city = row[0]\n",
    "    ll_dict = dict()\n",
    "    ll = get_ll(city)\n",
    "    ll_dict = {'City': city, 'Latitude': ll[0], 'Longitude': ll[1]}\n",
    "    ll_list.append(ll_dict)\n",
    "\n",
    "# Build the DataFrame\n",
    "ll_df = pd.DataFrame(ll_list)\n",
    "ll_df.head()"
   ]
  },
  {
   "cell_type": "code",
   "execution_count": 18,
   "metadata": {},
   "outputs": [
    {
     "name": "stdout",
     "output_type": "stream",
     "text": [
      "There are 0 rows missing data.\n"
     ]
    }
   ],
   "source": [
    "null_idx = ll_df.index[ll_df['Latitude'].isnull()].tolist()\n",
    "print(f'There are {len(null_idx)} rows missing data.')\n",
    "\n",
    "if len(null_idx) > 0:\n",
    "    ll_df.loc[null_idx,:]"
   ]
  },
  {
   "cell_type": "markdown",
   "metadata": {},
   "source": [
    "Because of the size of Russia, there are a number of cities that are contained within Asia. As such, we will drop any cities that are East of the Ural mountains (whose longitude according to [Wikipedia](https://en.wikipedia.org/wiki/Ural_Mountains) is 60E)."
   ]
  },
  {
   "cell_type": "code",
   "execution_count": 19,
   "metadata": {},
   "outputs": [
    {
     "data": {
      "text/html": [
       "<div>\n",
       "<style scoped>\n",
       "    .dataframe tbody tr th:only-of-type {\n",
       "        vertical-align: middle;\n",
       "    }\n",
       "\n",
       "    .dataframe tbody tr th {\n",
       "        vertical-align: top;\n",
       "    }\n",
       "\n",
       "    .dataframe thead th {\n",
       "        text-align: right;\n",
       "    }\n",
       "</style>\n",
       "<table border=\"1\" class=\"dataframe\">\n",
       "  <thead>\n",
       "    <tr style=\"text-align: right;\">\n",
       "      <th></th>\n",
       "      <th>City</th>\n",
       "      <th>Latitude</th>\n",
       "      <th>Longitude</th>\n",
       "    </tr>\n",
       "  </thead>\n",
       "  <tbody>\n",
       "    <tr>\n",
       "      <th>0</th>\n",
       "      <td>Aachen</td>\n",
       "      <td>50.776351</td>\n",
       "      <td>6.083862</td>\n",
       "    </tr>\n",
       "    <tr>\n",
       "      <th>1</th>\n",
       "      <td>Aberdeen</td>\n",
       "      <td>57.148243</td>\n",
       "      <td>-2.092809</td>\n",
       "    </tr>\n",
       "    <tr>\n",
       "      <th>2</th>\n",
       "      <td>Adana</td>\n",
       "      <td>36.993617</td>\n",
       "      <td>35.325835</td>\n",
       "    </tr>\n",
       "    <tr>\n",
       "      <th>3</th>\n",
       "      <td>Adapazarı</td>\n",
       "      <td>40.784799</td>\n",
       "      <td>30.399683</td>\n",
       "    </tr>\n",
       "    <tr>\n",
       "      <th>4</th>\n",
       "      <td>Adıyaman</td>\n",
       "      <td>37.789360</td>\n",
       "      <td>38.314110</td>\n",
       "    </tr>\n",
       "  </tbody>\n",
       "</table>\n",
       "</div>"
      ],
      "text/plain": [
       "        City   Latitude  Longitude\n",
       "0     Aachen  50.776351   6.083862\n",
       "1   Aberdeen  57.148243  -2.092809\n",
       "2      Adana  36.993617  35.325835\n",
       "3  Adapazarı  40.784799  30.399683\n",
       "4   Adıyaman  37.789360  38.314110"
      ]
     },
     "execution_count": 19,
     "metadata": {},
     "output_type": "execute_result"
    }
   ],
   "source": [
    "asia_idx = ll_df[ll_df['Longitude'] > 60].index\n",
    "ll_df.drop(asia_idx, inplace=True)\n",
    "ll_df.reset_index(drop=True, inplace=True)\n",
    "ll_df.head()"
   ]
  },
  {
   "cell_type": "code",
   "execution_count": 20,
   "metadata": {},
   "outputs": [],
   "source": [
    "ll_df.to_csv('cities_without_cafes.csv', index=False)"
   ]
  },
  {
   "cell_type": "code",
   "execution_count": null,
   "metadata": {},
   "outputs": [],
   "source": []
  }
 ],
 "metadata": {
  "kernelspec": {
   "display_name": "Python 3",
   "language": "python",
   "name": "python3"
  },
  "language_info": {
   "codemirror_mode": {
    "name": "ipython",
    "version": 3
   },
   "file_extension": ".py",
   "mimetype": "text/x-python",
   "name": "python",
   "nbconvert_exporter": "python",
   "pygments_lexer": "ipython3",
   "version": "3.8.2"
  }
 },
 "nbformat": 4,
 "nbformat_minor": 4
}
